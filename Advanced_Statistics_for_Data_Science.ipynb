{
  "nbformat": 4,
  "nbformat_minor": 0,
  "metadata": {
    "colab": {
      "provenance": [],
      "authorship_tag": "ABX9TyNECUGAvF0DqMVRKCcLkqm2",
      "include_colab_link": true
    },
    "kernelspec": {
      "name": "python3",
      "display_name": "Python 3"
    },
    "language_info": {
      "name": "python"
    }
  },
  "cells": [
    {
      "cell_type": "markdown",
      "metadata": {
        "id": "view-in-github",
        "colab_type": "text"
      },
      "source": [
        "<a href=\"https://colab.research.google.com/github/isaramadunika/Advanced_Statistics_Project/blob/main/Advanced_Statistics_for_Data_Science.ipynb\" target=\"_parent\"><img src=\"https://colab.research.google.com/assets/colab-badge.svg\" alt=\"Open In Colab\"/></a>"
      ]
    },
    {
      "cell_type": "code",
      "source": [
        "from google.colab import drive\n",
        "drive.mount('/content/drive')"
      ],
      "metadata": {
        "colab": {
          "base_uri": "https://localhost:8080/"
        },
        "id": "q45rsq-SIEn2",
        "outputId": "65829da3-79e8-42ba-f2ee-027c93992a0e"
      },
      "execution_count": 1,
      "outputs": [
        {
          "output_type": "stream",
          "name": "stdout",
          "text": [
            "Mounted at /content/drive\n"
          ]
        }
      ]
    },
    {
      "cell_type": "code",
      "source": [
        "# Import necessary libraries\n",
        "import pandas as pd\n",
        "import numpy as np\n",
        "import matplotlib.pyplot as plt\n",
        "import seaborn as sns\n",
        "\n",
        "# Set plot style\n",
        "plt.style.use('seaborn-v0_8-darkgrid')\n",
        "\n",
        "# Read the CSV file\n",
        "df = pd.read_csv('/content/drive/MyDrive/ASDS/Dialog_2009_2023_Daily.csv')\n",
        "\n",
        "# Display the first few rows of the dataset\n",
        "print(\"First 5 rows of the dataset:\")\n",
        "print(df.head())\n",
        "\n",
        "# Check the shape of the dataset\n",
        "print(\"\\\n",
        "Dataset shape (rows, columns):\", df.shape)\n",
        "\n",
        "# Check data types and missing values\n",
        "print(\"\\\n",
        "Data types and non-null counts:\")\n",
        "print(df.info())\n",
        "\n",
        "# Check for missing values\n",
        "print(\"\\\n",
        "Missing values per column:\")\n",
        "print(df.isnull().sum())"
      ],
      "metadata": {
        "colab": {
          "base_uri": "https://localhost:8080/"
        },
        "id": "7ZVS6siuIPwM",
        "outputId": "e8b8ef3b-3a0c-48d4-b68f-f8d45c7e5df3"
      },
      "execution_count": 3,
      "outputs": [
        {
          "output_type": "stream",
          "name": "stdout",
          "text": [
            "First 5 rows of the dataset:\n",
            "        Date  Price  Open  High   Low     Vol. Change %\n",
            "0   7/8/2009   5.25  5.25  5.25  5.00  714.20K    0.00%\n",
            "1   7/9/2009   5.25  5.25  5.25  5.00  386.70K    0.00%\n",
            "2  7/13/2009   5.25  5.25  5.25  5.00  290.90K    0.00%\n",
            "3  7/14/2009   5.25  5.25  5.25  5.25  163.60K    0.00%\n",
            "4  7/15/2009   5.25  5.25  5.25  5.00   63.10K    0.00%\n",
            "Dataset shape (rows, columns): (3268, 7)\n",
            "Data types and non-null counts:\n",
            "<class 'pandas.core.frame.DataFrame'>\n",
            "RangeIndex: 3268 entries, 0 to 3267\n",
            "Data columns (total 7 columns):\n",
            " #   Column    Non-Null Count  Dtype  \n",
            "---  ------    --------------  -----  \n",
            " 0   Date      3268 non-null   object \n",
            " 1   Price     3268 non-null   float64\n",
            " 2   Open      3268 non-null   float64\n",
            " 3   High      3268 non-null   float64\n",
            " 4   Low       3268 non-null   float64\n",
            " 5   Vol.      3268 non-null   object \n",
            " 6   Change %  3268 non-null   object \n",
            "dtypes: float64(4), object(3)\n",
            "memory usage: 178.8+ KB\n",
            "None\n",
            "Missing values per column:\n",
            "Date        0\n",
            "Price       0\n",
            "Open        0\n",
            "High        0\n",
            "Low         0\n",
            "Vol.        0\n",
            "Change %    0\n",
            "dtype: int64\n"
          ]
        }
      ]
    },
    {
      "cell_type": "code",
      "source": [],
      "metadata": {
        "id": "HjoWuxl9I9A9"
      },
      "execution_count": null,
      "outputs": []
    }
  ]
}